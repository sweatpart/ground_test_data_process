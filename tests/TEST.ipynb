{
 "cells": [
  {
   "cell_type": "code",
   "execution_count": 142,
   "metadata": {},
   "outputs": [],
   "source": [
    "def _async_parameter(series=None):\n",
    "        result = None\n",
    "        temp = next(series)\n",
    "        while True:\n",
    "            start, stop = yield result\n",
    "            result = []\n",
    "            result.append(temp)\n",
    "            for i in range(start, stop):\n",
    "                parameter = next(series)\n",
    "                if parameter is not None:\n",
    "                    result.append(parameter)\n",
    "            temp = result[-1] "
   ]
  },
  {
   "cell_type": "code",
   "execution_count": 143,
   "metadata": {},
   "outputs": [],
   "source": [
    "a = _async_parameter(iter([0,1,2,3,4,5,6,7]))\n",
    "next(a)"
   ]
  },
  {
   "cell_type": "code",
   "execution_count": 144,
   "metadata": {},
   "outputs": [
    {
     "output_type": "execute_result",
     "data": {
      "text/plain": [
       "[0, 0, 1]"
      ]
     },
     "metadata": {},
     "execution_count": 144
    }
   ],
   "source": [
    "a.send((0,2))"
   ]
  },
  {
   "cell_type": "code",
   "execution_count": null,
   "metadata": {},
   "outputs": [],
   "source": []
  }
 ],
 "metadata": {
  "kernelspec": {
   "name": "python3",
   "display_name": "Python 3.9.1 64-bit ('saic': conda)",
   "metadata": {
    "interpreter": {
     "hash": "53f16387e01c68d58861b5598f480721c7763ecf81cbe33d96a45de62442a455"
    }
   }
  },
  "language_info": {
   "codemirror_mode": {
    "name": "ipython",
    "version": 3
   },
   "file_extension": ".py",
   "mimetype": "text/x-python",
   "name": "python",
   "nbconvert_exporter": "python",
   "pygments_lexer": "ipython3",
   "version": "3.9.1-final"
  }
 },
 "nbformat": 4,
 "nbformat_minor": 2
}