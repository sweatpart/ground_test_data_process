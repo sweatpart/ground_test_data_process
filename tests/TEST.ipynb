{
 "cells": [
  {
   "cell_type": "code",
   "execution_count": 28,
   "metadata": {},
   "outputs": [],
   "source": [
    "import json"
   ]
  },
  {
   "cell_type": "code",
   "execution_count": 35,
   "metadata": {},
   "outputs": [
    {
     "output_type": "stream",
     "name": "stdout",
     "text": [
      "dict_items([('main_parm', 'Torque_RL[Nm]'), ('optional_parms', ['WhlGndVelLDrvnHSC1[km/h]', 'JounceAngle_RL[deg]']), ('tire_radius', 0.3), ('time_interval', 0.05)])\n"
     ]
    }
   ],
   "source": [
    "with open(\"/Users/sunlei/Documents/GitHub/ground_test_data_process/config/dutycycle.json\") as j:\n",
    "    config = json.load(j)\n",
    "    print(config.items())"
   ]
  },
  {
   "cell_type": "code",
   "execution_count": 36,
   "metadata": {},
   "outputs": [
    {
     "output_type": "execute_result",
     "data": {
      "text/plain": [
       "1"
      ]
     },
     "metadata": {},
     "execution_count": 36
    }
   ],
   "source": [
    "abs(-1)"
   ]
  },
  {
   "cell_type": "code",
   "execution_count": 1,
   "metadata": {},
   "outputs": [],
   "source": [
    "import pymongo\n",
    "import pprint"
   ]
  },
  {
   "cell_type": "code",
   "execution_count": 2,
   "metadata": {},
   "outputs": [
    {
     "output_type": "stream",
     "name": "stdout",
     "text": [
      "['admin', 'config', 'local', 'results', 'test_database']\n"
     ]
    }
   ],
   "source": [
    "client = pymongo.MongoClient()\n",
    "print(client.list_database_names())\n",
    "db = client['results']\n"
   ]
  },
  {
   "cell_type": "code",
   "execution_count": 3,
   "metadata": {},
   "outputs": [
    {
     "output_type": "stream",
     "name": "stdout",
     "text": [
      "['test']\n"
     ]
    }
   ],
   "source": [
    "name = db.list_collection_names()\n",
    "print(name)"
   ]
  },
  {
   "cell_type": "code",
   "execution_count": 7,
   "metadata": {},
   "outputs": [],
   "source": [
    "collection = db['test']\n",
    "from bson.objectid import ObjectId\n"
   ]
  },
  {
   "cell_type": "code",
   "execution_count": 10,
   "metadata": {},
   "outputs": [],
   "source": [
    "r = collection.delete_one({'_id': ObjectId('608948a1d76057af41e0b690')})"
   ]
  },
  {
   "cell_type": "code",
   "execution_count": 24,
   "metadata": {},
   "outputs": [
    {
     "output_type": "execute_result",
     "data": {
      "text/plain": [
       "{'_id': ObjectId('6066a6abab2f158ffd20a047'),\n",
       " 'user_id': 'sl',\n",
       " 'project': 'test',\n",
       " 'result': '{\"3\": {\"1\": {\"1\": 1.0}}, \"11\": {\"4\": {\"2\": 1.0}}, \"31\": {\"9\": {\"2\": 0.5}}, \"34\": {\"10\": {\"2\": 0.5}}, \"33\": {\"2\": {\"1\": 0.5}}}'}"
      ]
     },
     "metadata": {},
     "execution_count": 24
    }
   ],
   "source": [
    "l[0]"
   ]
  },
  {
   "cell_type": "code",
   "execution_count": 34,
   "metadata": {},
   "outputs": [],
   "source": [
    "l[0]['_id'] = '0'"
   ]
  },
  {
   "cell_type": "code",
   "execution_count": 35,
   "metadata": {},
   "outputs": [],
   "source": [
    "\n",
    "import json\n",
    "with open('/Users/sunlei/Documents/1.json', 'w') as j:\n",
    "    json.dumps(l[0], j)"
   ]
  },
  {
   "cell_type": "code",
   "execution_count": null,
   "metadata": {},
   "outputs": [],
   "source": []
  }
 ],
 "metadata": {
  "kernelspec": {
   "name": "python391jvsc74a57bd053f16387e01c68d58861b5598f480721c7763ecf81cbe33d96a45de62442a455",
   "display_name": "Python 3.9.1 64-bit ('saic': conda)"
  },
  "language_info": {
   "codemirror_mode": {
    "name": "ipython",
    "version": 3
   },
   "file_extension": ".py",
   "mimetype": "text/x-python",
   "name": "python",
   "nbconvert_exporter": "python",
   "pygments_lexer": "ipython3",
   "version": "3.9.1"
  }
 },
 "nbformat": 4,
 "nbformat_minor": 2
}