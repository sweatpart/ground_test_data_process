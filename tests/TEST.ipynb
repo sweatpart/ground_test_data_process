{
 "cells": [
  {
   "cell_type": "code",
   "execution_count": 3,
   "metadata": {},
   "outputs": [],
   "source": [
    "import json\n",
    "import pymongo\n",
    "import pprint\n",
    "from bson.objectid import ObjectId\n",
    "from src.db import e"
   ]
  },
  {
   "cell_type": "code",
   "execution_count": 8,
   "metadata": {},
   "outputs": [],
   "source": [
    "def get_db():\n",
    "    #client = pymongo.MongoClient('192.168.1.2', 27017)\n",
    "    client = pymongo.MongoClient()\n",
    "    db = client['results']\n",
    "    return db\n",
    "\n",
    "def insert_db(username, project, solver, result):\n",
    "    db = get_db()\n",
    "    record = {\n",
    "        'username': username,\n",
    "        'project': project,\n",
    "        'solver': solver,\n",
    "        'result': json.dumps(result) \n",
    "    }\n",
    "    db['test'].insert_one(record)"
   ]
  },
  {
   "cell_type": "code",
   "execution_count": null,
   "metadata": {},
   "outputs": [],
   "source": [
    "with open(\"/root/webapp/ground_test_data_process/doc/saic_marvel_results/rainflow/2.json\") as j:\n",
    "    data = json.load(j)\n",
    "    print(data)\n",
    "    "
   ]
  },
  {
   "cell_type": "code",
   "execution_count": 10,
   "metadata": {},
   "outputs": [],
   "source": [
    "data = {10: {5: 12, 10: 10, 15: 5}, 20: {5: 3, 10: 21, 15:8}, 30:{5:6, 10:17, 15:20}}\n",
    "insert_db('demo_user', 'demo_project', 'base_solver', data)"
   ]
  },
  {
   "cell_type": "code",
   "execution_count": 11,
   "metadata": {},
   "outputs": [
    {
     "name": "stdout",
     "output_type": "stream",
     "text": [
      "['admin', 'config', 'local', 'results']\n"
     ]
    }
   ],
   "source": [
    "client = pymongo.MongoClient()\n",
    "print(client.list_database_names())\n",
    "db = client['results']\n"
   ]
  },
  {
   "cell_type": "code",
   "execution_count": 12,
   "metadata": {},
   "outputs": [
    {
     "name": "stdout",
     "output_type": "stream",
     "text": [
      "['test']\n"
     ]
    }
   ],
   "source": [
    "name = db.list_collection_names()\n",
    "print(name)"
   ]
  },
  {
   "cell_type": "code",
   "execution_count": 7,
   "metadata": {},
   "outputs": [],
   "source": [
    "collection = db['test']"
   ]
  },
  {
   "cell_type": "code",
   "execution_count": 10,
   "metadata": {},
   "outputs": [],
   "source": [
    "r = collection.delete_one({'_id': ObjectId('608948a1d76057af41e0b690')})"
   ]
  },
  {
   "cell_type": "code",
   "execution_count": 24,
   "metadata": {},
   "outputs": [
    {
     "data": {
      "text/plain": [
       "{'_id': ObjectId('6066a6abab2f158ffd20a047'),\n",
       " 'user_id': 'sl',\n",
       " 'project': 'test',\n",
       " 'result': '{\"3\": {\"1\": {\"1\": 1.0}}, \"11\": {\"4\": {\"2\": 1.0}}, \"31\": {\"9\": {\"2\": 0.5}}, \"34\": {\"10\": {\"2\": 0.5}}, \"33\": {\"2\": {\"1\": 0.5}}}'}"
      ]
     },
     "execution_count": 24,
     "metadata": {},
     "output_type": "execute_result"
    }
   ],
   "source": [
    "l[0]"
   ]
  },
  {
   "cell_type": "code",
   "execution_count": 34,
   "metadata": {},
   "outputs": [],
   "source": [
    "l[0]['_id'] = '0'"
   ]
  },
  {
   "cell_type": "code",
   "execution_count": 35,
   "metadata": {},
   "outputs": [],
   "source": [
    "\n",
    "import json\n",
    "with open('/Users/sunlei/Documents/1.json', 'w') as j:\n",
    "    json.dumps(l[0], j)"
   ]
  },
  {
   "cell_type": "code",
   "execution_count": null,
   "metadata": {},
   "outputs": [],
   "source": []
  }
 ],
 "metadata": {
  "interpreter": {
   "hash": "75a88c5326dd9a21e92cc6c3cc18652e4ddf41dc329a0af2ae27f088e249a2dc"
  },
  "kernelspec": {
   "display_name": "Python 3.9.2 64-bit ('flask': conda)",
   "name": "python3"
  },
  "language_info": {
   "codemirror_mode": {
    "name": "ipython",
    "version": 3
   },
   "file_extension": ".py",
   "mimetype": "text/x-python",
   "name": "python",
   "nbconvert_exporter": "python",
   "pygments_lexer": "ipython3",
   "version": "3.9.2"
  }
 },
 "nbformat": 4,
 "nbformat_minor": 2
}