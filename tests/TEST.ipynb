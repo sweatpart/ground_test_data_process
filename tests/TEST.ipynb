{
 "cells": [
  {
   "cell_type": "code",
   "execution_count": 28,
   "metadata": {},
   "outputs": [],
   "source": [
    "import json"
   ]
  },
  {
   "cell_type": "code",
   "execution_count": 32,
   "metadata": {},
   "outputs": [
    {
     "output_type": "stream",
     "name": "stdout",
     "text": [
      "{'main_parm': 'Torque_RL[Nm]', 'optional_parms': ['WhlGndVelLDrvnHSC1[km/h]', 'JounceAngle_RL[deg]'], 'tire_radius': 0.3, 'time_interval': 0.05}\n"
     ]
    }
   ],
   "source": [
    "with open(\"/Users/sunlei/Documents/GitHub/ground_test_data_process/config/dutycycle.json\") as j:\n",
    "    config = json.load(j)\n",
    "    print(config.items())"
   ]
  },
  {
   "cell_type": "code",
   "execution_count": null,
   "metadata": {},
   "outputs": [],
   "source": []
  }
 ],
 "metadata": {
  "kernelspec": {
   "name": "python3",
   "display_name": "Python 3.9.1 64-bit ('saic': conda)",
   "metadata": {
    "interpreter": {
     "hash": "53f16387e01c68d58861b5598f480721c7763ecf81cbe33d96a45de62442a455"
    }
   }
  },
  "language_info": {
   "codemirror_mode": {
    "name": "ipython",
    "version": 3
   },
   "file_extension": ".py",
   "mimetype": "text/x-python",
   "name": "python",
   "nbconvert_exporter": "python",
   "pygments_lexer": "ipython3",
   "version": "3.9.1-final"
  }
 },
 "nbformat": 4,
 "nbformat_minor": 2
}