{
 "cells": [
  {
   "cell_type": "code",
   "execution_count": 155,
   "metadata": {},
   "outputs": [],
   "source": [
    "import ground_test_data_process as gtdp"
   ]
  },
  {
   "cell_type": "code",
   "execution_count": 156,
   "metadata": {},
   "outputs": [],
   "source": [
    "path = '/Users/sunlei/Documents/python/ground_test_data_process/SDS EV Torque_SAIC MarvelX_2019_04_30_081.xlsx'"
   ]
  },
  {
   "cell_type": "code",
   "execution_count": 157,
   "metadata": {},
   "outputs": [],
   "source": [
    "data_of_test = gtdp.DataProcess()"
   ]
  },
  {
   "cell_type": "code",
   "execution_count": 158,
   "metadata": {},
   "outputs": [
    {
     "name": "stdout",
     "output_type": "stream",
     "text": [
      "--> DATA FILE: SDS EV Torque_SAIC MarvelX_2019_04_30_081.xlsx  |  Opening file, please wait...\n",
      "--> DATA FILE: SDS EV Torque_SAIC MarvelX_2019_04_30_081.xlsx  |  File opened successfully!\n",
      "--> DATA FILE: SDS EV Torque_SAIC MarvelX_2019_04_30_081.xlsx  |  Importing sheets.\n",
      "100%| ████████████████████████████████████████ |\n",
      "\n",
      "--> DATA FILE: SDS EV Torque_SAIC MarvelX_2019_04_30_081.xlsx  |  Sheets imported successfully.\n",
      "--> DATA FILE: SDS EV Torque_SAIC MarvelX_2019_04_30_081.xlsx  |  Excel file closed\n"
     ]
    },
    {
     "data": {
      "text/plain": [
       "DataProcess('SDS EV Torque_SAIC MarvelX_2019_04_30_081.xlsx')"
      ]
     },
     "execution_count": 158,
     "metadata": {},
     "output_type": "execute_result"
    }
   ],
   "source": [
    "data_of_test.data_from_excel(path)"
   ]
  },
  {
   "cell_type": "code",
   "execution_count": 160,
   "metadata": {},
   "outputs": [],
   "source": [
    "save_path = '/Users/sunlei/Documents/python/ground_test_data_process/test_folder'"
   ]
  },
  {
   "cell_type": "code",
   "execution_count": 149,
   "metadata": {},
   "outputs": [
    {
     "name": "stdout",
     "output_type": "stream",
     "text": [
      "<class 'pandas.core.frame.DataFrame'>\n",
      "Int64Index: 99 entries, 0 to 98\n",
      "Data columns (total 22 columns):\n",
      "t[s]                           99 non-null float64\n",
      "JointTemp_RL[°C]               99 non-null float64\n",
      "JointTemp_RR[°C]               99 non-null float64\n",
      "Torque_RL[Nm]                  99 non-null float64\n",
      "Torque_RR[Nm]                  99 non-null float64\n",
      "JounceAngle_RL[deg]            99 non-null float64\n",
      "JounceAngle_RR[deg]            99 non-null float64\n",
      "ABSAHSC1[]                     99 non-null float64\n",
      "TCSAHSC1[]                     99 non-null float64\n",
      "VehDynYawRateHSC1[deg/s]       99 non-null float64\n",
      "VSESysAHSC1[]                  99 non-null float64\n",
      "EPTAccelActuPosHSC1[%]         99 non-null float64\n",
      "BrkPdlPos_h1HSC1[%]            99 non-null float64\n",
      "StrgWhlAngHSC1[degree]         99 non-null float64\n",
      "VSELatAccHSC1[m/s^2]           99 non-null float64\n",
      "VSELongtAccHSC1[m/s^2]         99 non-null float64\n",
      "WhlGndVelLDrvnHSC1[km/h]       99 non-null float64\n",
      "WhlGndVelRDrvnHSC1[km/h]       99 non-null float64\n",
      "WhlGndVelLNonDrvnHSC1[km/h]    99 non-null float64\n",
      "WhlGndVelRNonDrvnHSC1[km/h]    99 non-null float64\n",
      "ISGActuToqHSC6[Nm]             99 non-null float64\n",
      "TMActuToqHSC6[Nm]              99 non-null float64\n",
      "dtypes: float64(22)\n",
      "memory usage: 17.8 KB\n"
     ]
    }
   ],
   "source": [
    "data_of_test.info()"
   ]
  },
  {
   "cell_type": "code",
   "execution_count": 138,
   "metadata": {},
   "outputs": [
    {
     "data": {
      "text/html": [
       "<div>\n",
       "<style scoped>\n",
       "    .dataframe tbody tr th:only-of-type {\n",
       "        vertical-align: middle;\n",
       "    }\n",
       "\n",
       "    .dataframe tbody tr th {\n",
       "        vertical-align: top;\n",
       "    }\n",
       "\n",
       "    .dataframe thead th {\n",
       "        text-align: right;\n",
       "    }\n",
       "</style>\n",
       "<table border=\"1\" class=\"dataframe\">\n",
       "  <thead>\n",
       "    <tr style=\"text-align: right;\">\n",
       "      <th></th>\n",
       "      <th>Torque_RL_value_average</th>\n",
       "      <th>Torque_RL_value_num</th>\n",
       "    </tr>\n",
       "  </thead>\n",
       "  <tbody>\n",
       "    <tr>\n",
       "      <th>0</th>\n",
       "      <td>68.5</td>\n",
       "      <td>0.0</td>\n",
       "    </tr>\n",
       "    <tr>\n",
       "      <th>1</th>\n",
       "      <td>69.5</td>\n",
       "      <td>47.0</td>\n",
       "    </tr>\n",
       "    <tr>\n",
       "      <th>2</th>\n",
       "      <td>70.5</td>\n",
       "      <td>52.0</td>\n",
       "    </tr>\n",
       "  </tbody>\n",
       "</table>\n",
       "</div>"
      ],
      "text/plain": [
       "   Torque_RL_value_average  Torque_RL_value_num\n",
       "0                     68.5                  0.0\n",
       "1                     69.5                 47.0\n",
       "2                     70.5                 52.0"
      ]
     },
     "execution_count": 138,
     "metadata": {},
     "output_type": "execute_result"
    },
    {
     "data": {
      "image/png": "[encoded data removed]",
      "text/plain": [
       "<Figure size 432x288 with 1 Axes>"
      ]
     },
     "metadata": {
      "needs_background": "light"
     },
     "output_type": "display_data"
    }
   ],
   "source": [
    "data_of_test.hist_distribution('Torque_RL[Nm]')"
   ]
  },
  {
   "cell_type": "code",
   "execution_count": 154,
   "metadata": {},
   "outputs": [],
   "source": [
    "data_of_test.data_to_file(save_path)"
   ]
  },
  {
   "cell_type": "code",
   "execution_count": 129,
   "metadata": {},
   "outputs": [
    {
     "data": {
      "text/plain": [
       "dict_items([('Torque_RL(hist)',    Torque_RL_value_average  Torque_RL_value_num\n",
       "0                     68.5                  0.0\n",
       "1                     69.5                 47.0\n",
       "2                     70.5                 52.0)])"
      ]
     },
     "execution_count": 129,
     "metadata": {},
     "output_type": "execute_result"
    }
   ],
   "source": [
    "data_of_test.distribution_results.items()"
   ]
  },
  {
   "cell_type": "code",
   "execution_count": null,
   "metadata": {},
   "outputs": [],
   "source": [
    "if os.path.exists(path) is False:   # 导出数据到CSV文件，如无所需目录则创建一个\n",
    "            try:\n",
    "                os.mkdir(path)\n",
    "            except:\n",
    "                #print(self.common_name + 'Wrong path {}.'.format(path))\n",
    "                raise\n",
    "            print(self.common_name + 'Forlder not found. Establishing folder {}.'.format(path))\n",
    "        for key, item in self.distribution_results.items():\n",
    "            print(key, item)\n",
    "            #item.to_csv(path_or_buf = path + '/{}.csv'.format(key))"
   ]
  }
 ],
 "metadata": {
  "kernelspec": {
   "display_name": "Python 3",
   "language": "python",
   "name": "python3"
  },
  "language_info": {
   "codemirror_mode": {
    "name": "ipython",
    "version": 3
   },
   "file_extension": ".py",
   "mimetype": "text/x-python",
   "name": "python",
   "nbconvert_exporter": "python",
   "pygments_lexer": "ipython3",
   "version": "3.7.5"
  }
 },
 "nbformat": 4,
 "nbformat_minor": 2
}
